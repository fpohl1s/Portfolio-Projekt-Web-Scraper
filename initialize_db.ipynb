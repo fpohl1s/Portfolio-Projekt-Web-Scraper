{
 "cells": [
  {
   "cell_type": "markdown",
   "metadata": {},
   "source": [
    "# Initialize Database\n",
    "- This Notebook initializes the MySQL DB\n",
    "- Create 3 Tables:\n",
    "    - product: Includes the basic information of every product\n",
    "    - variant: Includes all spezific information of each variant of a product\n",
    "    - image: Includes all information of a product regarding the images "
   ]
  },
  {
   "cell_type": "code",
   "execution_count": null,
   "metadata": {},
   "outputs": [],
   "source": [
    "# Load Libraries and get Log-In Data from .env-File\n",
    "from sqlalchemy import create_engine, Column, Integer, BigInteger, String, DateTime, Text, Boolean, ForeignKey, Float\n",
    "from sqlalchemy.orm import declarative_base, relationship\n",
    "from sqlalchemy.dialects.mysql import LONGTEXT\n",
    "\n",
    "import os\n",
    "from dotenv import load_dotenv\n",
    "\n",
    "load_dotenv()\n",
    "Base = declarative_base()"
   ]
  },
  {
   "cell_type": "code",
   "execution_count": null,
   "metadata": {},
   "outputs": [],
   "source": [
    "# Initialize the different Tables with their datatype, keys and relations\n",
    "class Product(Base):\n",
    "    __tablename__ = 'product'\n",
    "    \n",
    "    id = Column(BigInteger, primary_key=True)\n",
    "    title = Column(String(255))\n",
    "    handle = Column(String(255))\n",
    "    body_html = Column(Text)\n",
    "    published_at = Column(DateTime)\n",
    "    created_at = Column(DateTime)\n",
    "    updated_at = Column(DateTime)\n",
    "    vendor = Column(String(255))\n",
    "    product_type = Column(String(255))\n",
    "    tags = Column(Text)\n",
    "    shopname = Column(String(255))\n",
    "    online = Column(Boolean)\n",
    "    category = Column(String(255))\n",
    "\n",
    "class Variant(Base):\n",
    "    __tablename__ = 'variant'\n",
    "    \n",
    "    id = Column(BigInteger, primary_key=True)\n",
    "    title = Column(String(255))\n",
    "    option1 = Column(String(255))\n",
    "    option2 = Column(String(255))\n",
    "    option3 = Column(String(255))\n",
    "    sku = Column(String(255))\n",
    "    requires_shipping = Column(Boolean)\n",
    "    taxable = Column(Boolean)\n",
    "    featured_image = Column(Text)\n",
    "    available = Column(Boolean)\n",
    "    price = Column(Float)\n",
    "    grams = Column(Integer)\n",
    "    compare_at_price = Column(Float)\n",
    "    position = Column(Integer)\n",
    "    product_id = Column(BigInteger, ForeignKey('product.id'))\n",
    "    created_at = Column(DateTime)\n",
    "    updated_at = Column(DateTime)\n",
    "    size = Column(String(255))\n",
    "    color = Column(String(255))\n",
    "    main_color = Column(String(255))\n",
    "    sale = Column(Boolean)\n",
    "    discount = Column(Float)\n",
    "\n",
    "\n",
    "class Image(Base):\n",
    "    __tablename__ = 'image'\n",
    "    \n",
    "    id = Column(BigInteger, primary_key=True)\n",
    "    created_at = Column(DateTime)\n",
    "    position = Column(Integer)\n",
    "    updated_at = Column(DateTime)\n",
    "    product_id = Column(BigInteger, ForeignKey('product.id'))\n",
    "    variant_ids = Column(Text)\n",
    "    src = Column(LONGTEXT)\n",
    "    width = Column(Integer)\n",
    "    height = Column(Integer)"
   ]
  },
  {
   "cell_type": "code",
   "execution_count": null,
   "metadata": {},
   "outputs": [],
   "source": [
    "# Erstelle alle definierten Tabellen\n",
    "MYSQL_ACCESS = os.getenv(\"MYSQL_ACCESS\")    # Erstelle ein .env-File und hinterlege die entsprechenden Log-In Daten\n",
    "engine = create_engine(MYSQL_ACCESS)\n",
    "\n",
    "Base.metadata.create_all(engine)\n",
    "print(\"Tabellen wurden erfolgreich erstellt.\")"
   ]
  }
 ],
 "metadata": {
  "kernelspec": {
   "display_name": "base",
   "language": "python",
   "name": "python3"
  },
  "language_info": {
   "codemirror_mode": {
    "name": "ipython",
    "version": 3
   },
   "file_extension": ".py",
   "mimetype": "text/x-python",
   "name": "python",
   "nbconvert_exporter": "python",
   "pygments_lexer": "ipython3",
   "version": "3.10.9"
  }
 },
 "nbformat": 4,
 "nbformat_minor": 2
}
